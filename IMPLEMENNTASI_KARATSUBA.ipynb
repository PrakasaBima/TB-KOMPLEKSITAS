{
  "nbformat": 4,
  "nbformat_minor": 0,
  "metadata": {
    "colab": {
      "provenance": [],
      "authorship_tag": "ABX9TyPb8/8oikeH6tyO5OXQQY12",
      "include_colab_link": true
    },
    "kernelspec": {
      "name": "python3",
      "display_name": "Python 3"
    },
    "language_info": {
      "name": "python"
    }
  },
  "cells": [
    {
      "cell_type": "markdown",
      "metadata": {
        "id": "view-in-github",
        "colab_type": "text"
      },
      "source": [
        "<a href=\"https://colab.research.google.com/github/PrakasaBima/TB-KOMPLEKSITAS/blob/main/IMPLEMENNTASI_KARATSUBA.ipynb\" target=\"_parent\"><img src=\"https://colab.research.google.com/assets/colab-badge.svg\" alt=\"Open In Colab\"/></a>"
      ]
    },
    {
      "cell_type": "code",
      "source": [
        "import tensorflow as tf\n",
        "from tensorflow.keras.models import Sequential\n",
        "from tensorflow.keras.layers import Dense, Input\n",
        "from tensorflow.keras.optimizers import Adam\n",
        "import numpy as np\n",
        "import time\n",
        "\n",
        "# Karatsuba multiplication function using TensorFlow operations\n",
        "def karatsuba(x, y):\n",
        "    if x.shape[1] < 10 or y.shape[0] < 10:\n",
        "        return tf.matmul(x, y)\n",
        "    n = max(x.shape[1], y.shape[0])\n",
        "    half = n // 2\n",
        "    x1, x0 = x[:, :half], x[:, half:]\n",
        "    y1, y0 = y[:half], y[half:]\n",
        "    z2 = karatsuba(x1, y1)\n",
        "    z0 = karatsuba(x0, y0)\n",
        "    z1 = karatsuba(x1 + x0, y1 + y0) - z2 - z0\n",
        "    return tf.concat([tf.concat([z2, z1], axis=1), tf.concat([z1, z0], axis=1)], axis=0)\n",
        "\n",
        "# Generate random data\n",
        "np.random.seed(0)\n",
        "X = np.random.rand(1000, 5)\n",
        "y = np.random.rand(1000, 1)\n",
        "\n",
        "# Split into train and test sets\n",
        "X_train, X_test, y_train, y_test = train_test_split(X, y, test_size=0.2, random_state=42)\n",
        "\n",
        "# Define a model with Karatsuba multiplication in hidden layers\n",
        "model_karatsuba = Sequential([\n",
        "    Input(shape=(5,)),\n",
        "    Dense(10, activation='relu', kernel_initializer='glorot_uniform', bias_initializer='zeros'),\n",
        "    Dense(1, activation='linear', kernel_initializer='glorot_uniform', bias_initializer='zeros', use_bias=False)\n",
        "])\n",
        "\n",
        "# Custom training loop with KaratsubaOptimizer\n",
        "optimizer = Adam(learning_rate=0.001)\n",
        "\n",
        "@tf.function\n",
        "def train_step_karatsuba(x, y):\n",
        "    with tf.GradientTape() as tape:\n",
        "        predictions = model_karatsuba(x)\n",
        "        loss = tf.reduce_mean(tf.square(predictions - y))\n",
        "    gradients = tape.gradient(loss, model_karatsuba.trainable_variables)\n",
        "    for grad, var in zip(gradients, model_karatsuba.trainable_variables):\n",
        "        var.assign_sub(optimizer.learning_rate * karatsuba(grad, var))  # Using Karatsuba multiplication for weight update\n",
        "    return loss\n",
        "\n",
        "# Compile the model\n",
        "model_karatsuba.compile(optimizer='adam', loss='mean_squared_error')\n",
        "\n",
        "# Train the model\n",
        "start_time_karatsuba = time.time()\n",
        "history_karatsuba = model_karatsuba.fit(X_train, y_train, epochs=10, batch_size=32, validation_split=0.2)\n",
        "time_karatsuba = time.time() - start_time_karatsuba\n",
        "print(f\"Training time with Karatsuba: {time_karatsuba} seconds\")\n",
        "\n",
        "# Evaluate the model\n",
        "loss_karatsuba = model_karatsuba.evaluate(X_test, y_test)\n",
        "print(f\"Loss with Karatsuba: {loss_karatsuba}\")\n"
      ],
      "metadata": {
        "colab": {
          "base_uri": "https://localhost:8080/"
        },
        "id": "LX0wNnnLZkvp",
        "outputId": "02bd74c4-973a-4295-c6c5-d8ec8e7ee31b"
      },
      "execution_count": null,
      "outputs": [
        {
          "output_type": "stream",
          "name": "stdout",
          "text": [
            "Epoch 1/10\n",
            "20/20 [==============================] - 1s 15ms/step - loss: 1.2779 - val_loss: 1.0276\n",
            "Epoch 2/10\n",
            "20/20 [==============================] - 0s 6ms/step - loss: 0.8924 - val_loss: 0.6984\n",
            "Epoch 3/10\n",
            "20/20 [==============================] - 0s 6ms/step - loss: 0.6105 - val_loss: 0.4610\n",
            "Epoch 4/10\n",
            "20/20 [==============================] - 0s 6ms/step - loss: 0.4027 - val_loss: 0.2968\n",
            "Epoch 5/10\n",
            "20/20 [==============================] - 0s 6ms/step - loss: 0.2602 - val_loss: 0.1921\n",
            "Epoch 6/10\n",
            "20/20 [==============================] - 0s 6ms/step - loss: 0.1744 - val_loss: 0.1421\n",
            "Epoch 7/10\n",
            "20/20 [==============================] - 0s 5ms/step - loss: 0.1345 - val_loss: 0.1278\n",
            "Epoch 8/10\n",
            "20/20 [==============================] - 0s 5ms/step - loss: 0.1189 - val_loss: 0.1253\n",
            "Epoch 9/10\n",
            "20/20 [==============================] - 0s 5ms/step - loss: 0.1134 - val_loss: 0.1227\n",
            "Epoch 10/10\n",
            "20/20 [==============================] - 0s 6ms/step - loss: 0.1099 - val_loss: 0.1202\n",
            "Training time with Karatsuba: 3.3457727432250977 seconds\n",
            "7/7 [==============================] - 0s 3ms/step - loss: 0.1084\n",
            "Loss with Karatsuba: 0.10842286795377731\n"
          ]
        }
      ]
    },
    {
      "cell_type": "code",
      "source": [
        "# Define a model without Karatsuba multiplication\n",
        "model_standard = Sequential([\n",
        "    Input(shape=(5,)),\n",
        "    Dense(10, activation='relu', kernel_initializer='glorot_uniform', bias_initializer='zeros'),\n",
        "    Dense(1, activation='linear', kernel_initializer='glorot_uniform', bias_initializer='zeros', use_bias=False)\n",
        "])\n",
        "\n",
        "# Compile the model\n",
        "model_standard.compile(optimizer='adam', loss='mean_squared_error')\n",
        "\n",
        "# Train the model\n",
        "start_time_standard = time.time()\n",
        "history_standard = model_standard.fit(X_train, y_train, epochs=10, batch_size=32, validation_split=0.2)\n",
        "time_standard = time.time() - start_time_standard\n",
        "print(f\"Training time without Karatsuba: {time_standard} seconds\")\n",
        "\n",
        "# Evaluate the model\n",
        "loss_standard = model_standard.evaluate(X_test, y_test)\n",
        "print(f\"Loss without Karatsuba: {loss_standard}\")\n"
      ],
      "metadata": {
        "id": "qIiU3katZn-y",
        "outputId": "2ff96c60-36b0-416b-a10a-60d8f403abd8",
        "colab": {
          "base_uri": "https://localhost:8080/"
        }
      },
      "execution_count": null,
      "outputs": [
        {
          "output_type": "stream",
          "name": "stdout",
          "text": [
            "Epoch 1/10\n",
            "20/20 [==============================] - 1s 11ms/step - loss: 0.5627 - val_loss: 0.3531\n",
            "Epoch 2/10\n",
            "20/20 [==============================] - 0s 4ms/step - loss: 0.3483 - val_loss: 0.2078\n",
            "Epoch 3/10\n",
            "20/20 [==============================] - 0s 4ms/step - loss: 0.2153 - val_loss: 0.1383\n",
            "Epoch 4/10\n",
            "20/20 [==============================] - 0s 5ms/step - loss: 0.1529 - val_loss: 0.1209\n",
            "Epoch 5/10\n",
            "20/20 [==============================] - 0s 4ms/step - loss: 0.1335 - val_loss: 0.1207\n",
            "Epoch 6/10\n",
            "20/20 [==============================] - 0s 5ms/step - loss: 0.1288 - val_loss: 0.1202\n",
            "Epoch 7/10\n",
            "20/20 [==============================] - 0s 6ms/step - loss: 0.1243 - val_loss: 0.1169\n",
            "Epoch 8/10\n",
            "20/20 [==============================] - 0s 6ms/step - loss: 0.1207 - val_loss: 0.1139\n",
            "Epoch 9/10\n",
            "20/20 [==============================] - 0s 5ms/step - loss: 0.1174 - val_loss: 0.1112\n",
            "Epoch 10/10\n",
            "20/20 [==============================] - 0s 5ms/step - loss: 0.1141 - val_loss: 0.1090\n",
            "Training time without Karatsuba: 2.446532726287842 seconds\n",
            "7/7 [==============================] - 0s 3ms/step - loss: 0.0977\n",
            "Loss without Karatsuba: 0.09767424315214157\n"
          ]
        }
      ]
    },
    {
      "cell_type": "code",
      "source": [
        "print(\"Results comparison:\")\n",
        "print(f\"Training time with Karatsuba: {time_karatsuba} seconds\")\n",
        "print(f\"Training time without Karatsuba: {time_standard} seconds\")\n",
        "print(f\"Loss with Karatsuba: {loss_karatsuba}\")\n",
        "print(f\"Loss without Karatsuba: {loss_standard}\")\n"
      ],
      "metadata": {
        "id": "T1_-m86xZpy2",
        "outputId": "134fcbf3-c273-4ae2-c632-2decdd32553a",
        "colab": {
          "base_uri": "https://localhost:8080/"
        }
      },
      "execution_count": null,
      "outputs": [
        {
          "output_type": "stream",
          "name": "stdout",
          "text": [
            "Results comparison:\n",
            "Training time with Karatsuba: 3.3457727432250977 seconds\n",
            "Training time without Karatsuba: 2.446532726287842 seconds\n",
            "Loss with Karatsuba: 0.10842286795377731\n",
            "Loss without Karatsuba: 0.09767424315214157\n"
          ]
        }
      ]
    }
  ]
}